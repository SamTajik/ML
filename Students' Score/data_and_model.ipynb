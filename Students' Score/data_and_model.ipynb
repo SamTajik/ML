{
 "cells": [
  {
   "cell_type": "markdown",
   "id": "2247d62c-a49f-42d7-bd56-ebd81cee1948",
   "metadata": {},
   "source": [
    "<div dir=\"rtl\" style=\"text-align: right;\">\n",
    "در سلول های ابتدایی کتابخانه ها، توابع و شی های مورد نیازمان را فراخوانی می کنیم. و همچنین داده ها را از فایل خوانده و نگاهی به آن می اندازیم.\n",
    "</div>"
   ]
  },
  {
   "cell_type": "code",
   "execution_count": 1,
   "id": "c52c518f-cc5f-4f40-a534-42d2d98ca3ff",
   "metadata": {},
   "outputs": [],
   "source": [
    "from sklearn.linear_model import LinearRegression\n",
    "from sklearn.model_selection import train_test_split\n",
    "from sklearn.metrics import mean_squared_error, r2_score\n",
    "from sklearn.preprocessing import StandardScaler\n",
    "import pandas as pd\n",
    "import numpy as np"
   ]
  },
  {
   "cell_type": "code",
   "execution_count": 2,
   "id": "6bb908a0-abfe-4caa-b93d-ed8e3e5854d5",
   "metadata": {},
   "outputs": [
    {
     "name": "stdout",
     "output_type": "stream",
     "text": [
      "<class 'pandas.core.frame.DataFrame'>\n",
      "RangeIndex: 10000 entries, 0 to 9999\n",
      "Data columns (total 6 columns):\n",
      " #   Column                            Non-Null Count  Dtype  \n",
      "---  ------                            --------------  -----  \n",
      " 0   Hours Studied                     10000 non-null  int64  \n",
      " 1   Previous Scores                   10000 non-null  int64  \n",
      " 2   Extracurricular Activities        10000 non-null  object \n",
      " 3   Sleep Hours                       10000 non-null  int64  \n",
      " 4   Sample Question Papers Practiced  10000 non-null  int64  \n",
      " 5   Performance Index                 10000 non-null  float64\n",
      "dtypes: float64(1), int64(4), object(1)\n",
      "memory usage: 468.9+ KB\n"
     ]
    }
   ],
   "source": [
    "#reading data\n",
    "\n",
    "df = pd.read_csv('Student_Performance.csv')\n",
    "df.info()"
   ]
  },
  {
   "cell_type": "code",
   "execution_count": 3,
   "id": "5fe5c6db-e9e4-48aa-937b-e782ae29cc9c",
   "metadata": {},
   "outputs": [
    {
     "data": {
      "text/html": [
       "<div>\n",
       "<style scoped>\n",
       "    .dataframe tbody tr th:only-of-type {\n",
       "        vertical-align: middle;\n",
       "    }\n",
       "\n",
       "    .dataframe tbody tr th {\n",
       "        vertical-align: top;\n",
       "    }\n",
       "\n",
       "    .dataframe thead th {\n",
       "        text-align: right;\n",
       "    }\n",
       "</style>\n",
       "<table border=\"1\" class=\"dataframe\">\n",
       "  <thead>\n",
       "    <tr style=\"text-align: right;\">\n",
       "      <th></th>\n",
       "      <th>Hours Studied</th>\n",
       "      <th>Previous Scores</th>\n",
       "      <th>Extracurricular Activities</th>\n",
       "      <th>Sleep Hours</th>\n",
       "      <th>Sample Question Papers Practiced</th>\n",
       "      <th>Performance Index</th>\n",
       "    </tr>\n",
       "  </thead>\n",
       "  <tbody>\n",
       "    <tr>\n",
       "      <th>0</th>\n",
       "      <td>7</td>\n",
       "      <td>99</td>\n",
       "      <td>Yes</td>\n",
       "      <td>9</td>\n",
       "      <td>1</td>\n",
       "      <td>91.0</td>\n",
       "    </tr>\n",
       "    <tr>\n",
       "      <th>1</th>\n",
       "      <td>4</td>\n",
       "      <td>82</td>\n",
       "      <td>No</td>\n",
       "      <td>4</td>\n",
       "      <td>2</td>\n",
       "      <td>65.0</td>\n",
       "    </tr>\n",
       "    <tr>\n",
       "      <th>2</th>\n",
       "      <td>8</td>\n",
       "      <td>51</td>\n",
       "      <td>Yes</td>\n",
       "      <td>7</td>\n",
       "      <td>2</td>\n",
       "      <td>45.0</td>\n",
       "    </tr>\n",
       "    <tr>\n",
       "      <th>3</th>\n",
       "      <td>5</td>\n",
       "      <td>52</td>\n",
       "      <td>Yes</td>\n",
       "      <td>5</td>\n",
       "      <td>2</td>\n",
       "      <td>36.0</td>\n",
       "    </tr>\n",
       "    <tr>\n",
       "      <th>4</th>\n",
       "      <td>7</td>\n",
       "      <td>75</td>\n",
       "      <td>No</td>\n",
       "      <td>8</td>\n",
       "      <td>5</td>\n",
       "      <td>66.0</td>\n",
       "    </tr>\n",
       "  </tbody>\n",
       "</table>\n",
       "</div>"
      ],
      "text/plain": [
       "   Hours Studied  Previous Scores Extracurricular Activities  Sleep Hours  \\\n",
       "0              7               99                        Yes            9   \n",
       "1              4               82                         No            4   \n",
       "2              8               51                        Yes            7   \n",
       "3              5               52                        Yes            5   \n",
       "4              7               75                         No            8   \n",
       "\n",
       "   Sample Question Papers Practiced  Performance Index  \n",
       "0                                 1               91.0  \n",
       "1                                 2               65.0  \n",
       "2                                 2               45.0  \n",
       "3                                 2               36.0  \n",
       "4                                 5               66.0  "
      ]
     },
     "execution_count": 3,
     "metadata": {},
     "output_type": "execute_result"
    }
   ],
   "source": [
    "df.head()"
   ]
  },
  {
   "cell_type": "markdown",
   "id": "ca92036a-6866-481f-b2f7-d9baecf58e61",
   "metadata": {},
   "source": [
    "<div dir=\"rtl\" style=\"text-align: right;\">\n",
    "یک ستون از دیتافریم نشان می دهد دانش آموز فعالیت های فوق برنامه داشته یا خیر. از آنجا که ماهیت این دیتا دودویی(بله یا خیر، صفر یا یک) است؛\n",
    "با خیال راحت آن را به عدد(0 و 1) تبدیل می کنیم.\n",
    "</div>"
   ]
  },
  {
   "cell_type": "code",
   "execution_count": 4,
   "id": "7d838ff7-e0c7-4e0a-8674-2241a7a36367",
   "metadata": {},
   "outputs": [
    {
     "name": "stdout",
     "output_type": "stream",
     "text": [
      "<class 'pandas.core.frame.DataFrame'>\n",
      "RangeIndex: 10000 entries, 0 to 9999\n",
      "Data columns (total 6 columns):\n",
      " #   Column                            Non-Null Count  Dtype  \n",
      "---  ------                            --------------  -----  \n",
      " 0   Hours Studied                     10000 non-null  int64  \n",
      " 1   Previous Scores                   10000 non-null  int64  \n",
      " 2   Extracurricular Activities        10000 non-null  int8   \n",
      " 3   Sleep Hours                       10000 non-null  int64  \n",
      " 4   Sample Question Papers Practiced  10000 non-null  int64  \n",
      " 5   Performance Index                 10000 non-null  float64\n",
      "dtypes: float64(1), int64(4), int8(1)\n",
      "memory usage: 400.5 KB\n"
     ]
    }
   ],
   "source": [
    "#replacing 'Yes' and 'No' strings with binary numbers\n",
    "\n",
    "df['Extracurricular Activities'] = (\n",
    "    df['Extracurricular Activities']\n",
    "    .replace(['No', 'Yes'], ['0','1'])\n",
    "    .astype('int8')\n",
    ")\n",
    "df.info()"
   ]
  },
  {
   "cell_type": "code",
   "execution_count": 5,
   "id": "cc3067a2-fa14-4b0d-91f9-4ed2a6bd0523",
   "metadata": {},
   "outputs": [
    {
     "name": "stdout",
     "output_type": "stream",
     "text": [
      "Hours Studied\n",
      "9\n",
      "1\n",
      "Previous Scores\n",
      "99\n",
      "40\n",
      "Extracurricular Activities\n",
      "1\n",
      "0\n",
      "Sleep Hours\n",
      "9\n",
      "4\n",
      "Sample Question Papers Practiced\n",
      "9\n",
      "0\n",
      "Performance Index\n",
      "100.0\n",
      "10.0\n"
     ]
    }
   ],
   "source": [
    "#checking min and max of each column to see if we can use some lighter data types\n",
    "\n",
    "for col in df.columns:\n",
    "    print(col)\n",
    "    print(df[col].max())\n",
    "    print(df[col].min())"
   ]
  },
  {
   "cell_type": "markdown",
   "id": "d71bece9-657c-4ce3-bf9b-238d7786f67b",
   "metadata": {},
   "source": [
    "<div dir=\"rtl\" style=\"text-align: right;\">\n",
    "می توان دید که همه داده های ما بین 0 و 100 است. یک ستون از داده هم اعشاری است که با نگاهی گذرا به نظر می رسد تمام اعداد اعشاری آن صفر است و \n",
    "اگر صفر نباشد هم حذف آن تاثیر زیادی روی دقت کار نمی گذارد زیرا اعداد این ستون بین 10 و 100 هستند. در نتیجه همه داده ها را به فرمت سبک تر \n",
    "int8 ذخیره می کنیم\n",
    "</div>"
   ]
  },
  {
   "cell_type": "code",
   "execution_count": 6,
   "id": "ba8c10d5-6535-4dd3-89c7-fa880e00bbfb",
   "metadata": {},
   "outputs": [
    {
     "name": "stdout",
     "output_type": "stream",
     "text": [
      "<class 'pandas.core.frame.DataFrame'>\n",
      "RangeIndex: 10000 entries, 0 to 9999\n",
      "Data columns (total 6 columns):\n",
      " #   Column                            Non-Null Count  Dtype\n",
      "---  ------                            --------------  -----\n",
      " 0   Hours Studied                     10000 non-null  int8 \n",
      " 1   Previous Scores                   10000 non-null  int8 \n",
      " 2   Extracurricular Activities        10000 non-null  int8 \n",
      " 3   Sleep Hours                       10000 non-null  int8 \n",
      " 4   Sample Question Papers Practiced  10000 non-null  int8 \n",
      " 5   Performance Index                 10000 non-null  int8 \n",
      "dtypes: int8(6)\n",
      "memory usage: 58.7 KB\n"
     ]
    }
   ],
   "source": [
    "# int8 datatype can fit all values here\n",
    "# wedo not need decimals of df['Performance Index']\n",
    "\n",
    "for col in df.columns:\n",
    "    df[col] = df[col].astype('int8')\n",
    "\n",
    "df.info()"
   ]
  },
  {
   "cell_type": "markdown",
   "id": "028a0e51-2c5f-4e98-be3e-f58c3bc302c3",
   "metadata": {},
   "source": [
    "<div dir=\"rtl\" style=\"text-align: right;\">\n",
    "چند سلول بعدی مربوط به تعریف، آموزش و پیش بینی مدل هستند.\n",
    "</div>"
   ]
  },
  {
   "cell_type": "code",
   "execution_count": 7,
   "id": "9a9f6bd0-8a4a-4cd1-b3c4-93d4ca4b8abe",
   "metadata": {},
   "outputs": [],
   "source": [
    "# train_test splitting\n",
    "\n",
    "X = df.drop('Performance Index', axis=1)\n",
    "y = df['Performance Index']\n",
    "X_train, X_test, y_train, y_test = train_test_split( X, y, test_size=0.2, random_state=42)"
   ]
  },
  {
   "cell_type": "code",
   "execution_count": 8,
   "id": "868ac563-9a2b-4596-a3ca-2d6cac63a984",
   "metadata": {},
   "outputs": [],
   "source": [
    "#scaling data with standard scaler\n",
    "\n",
    "scaler = StandardScaler()\n",
    "X_train_scaled = scaler.fit_transform(X_train)\n",
    "X_test_scaled = scaler.transform(X_test)"
   ]
  },
  {
   "cell_type": "code",
   "execution_count": 9,
   "id": "8c431a14-b337-4132-ba89-14a1154204c3",
   "metadata": {},
   "outputs": [],
   "source": [
    "#initializing model\n",
    "\n",
    "model = LinearRegression()\n",
    "model.fit(X_train_scaled, y_train)\n",
    "y_pred = model.predict(X_test_scaled)"
   ]
  },
  {
   "cell_type": "markdown",
   "id": "d44d68a4-51ae-4219-9b65-bba1997c4440",
   "metadata": {},
   "source": [
    "<div dir=\"rtl\" style=\"text-align: right;\">\n",
    "سلول های بعدی مربوط به اندازه گیری برخی پارامتر هاست که نشان می دهد مدل ما چه قدر خوب پیش بینی کرده. اگر بدانیم این پارامتر ها چه هستند می فهمیم مدل به خوبی عمل کرده.\n",
    "(به کسی قرار نیست ارائه داده بشه. پس توضیح پارامتر ها با ریاضیات زحمت بی دلیل خواهد بود)\n",
    "</div>"
   ]
  },
  {
   "cell_type": "code",
   "execution_count": 28,
   "id": "d16181ba-5018-45e9-b987-bfb3e1acd979",
   "metadata": {},
   "outputs": [],
   "source": [
    "# calculating error and r2_score\n",
    "\n",
    "mse = mean_squared_error(y_test, y_pred)\n",
    "r2 = r2_score(y_test, y_pred)"
   ]
  },
  {
   "cell_type": "code",
   "execution_count": 29,
   "id": "29e5afa3-36f8-4237-b63f-b3e4f0b2a1fb",
   "metadata": {},
   "outputs": [
    {
     "name": "stdout",
     "output_type": "stream",
     "text": [
      "root mean squared error/average of test data: 0.04\n",
      "r2_score: 0.99\n"
     ]
    }
   ],
   "source": [
    "print(f\"root mean squared error/average of test data: {(mse**0.5)/y_test.mean():.2f}\")\n",
    "print(f\"r2_score: {r2:.2f}\")"
   ]
  }
 ],
 "metadata": {
  "kernelspec": {
   "display_name": "Python 3 (ipykernel)",
   "language": "python",
   "name": "python3"
  },
  "language_info": {
   "codemirror_mode": {
    "name": "ipython",
    "version": 3
   },
   "file_extension": ".py",
   "mimetype": "text/x-python",
   "name": "python",
   "nbconvert_exporter": "python",
   "pygments_lexer": "ipython3",
   "version": "3.12.2"
  }
 },
 "nbformat": 4,
 "nbformat_minor": 5
}
